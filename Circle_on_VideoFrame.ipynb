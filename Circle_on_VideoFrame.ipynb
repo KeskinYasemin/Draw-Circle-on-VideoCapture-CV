{
 "cells": [
  {
   "cell_type": "code",
   "execution_count": 19,
   "metadata": {},
   "outputs": [],
   "source": [
    "import cv2\n",
    "import numpy as np\n",
    "\n",
    "x1 = 0\n",
    "y1 = 0\n",
    "click = False\n",
    "line = False"
   ]
  },
  {
   "cell_type": "code",
   "execution_count": 20,
   "metadata": {},
   "outputs": [],
   "source": [
    "def draw(event,x,y,flags,param):\n",
    "    global click, line, x1,y1\n",
    "    if event == cv2.EVENT_LBUTTONDOWN:\n",
    "        click = True\n",
    "    elif event == cv2.EVENT_MOUSEMOVE:\n",
    "        if click == True:\n",
    "            line = True\n",
    "            x1=x\n",
    "            y1=y\n",
    "    elif event == cv2.EVENT_LBUTTONUP:\n",
    "        click = False"
   ]
  },
  {
   "cell_type": "code",
   "execution_count": 21,
   "metadata": {},
   "outputs": [],
   "source": [
    "cap = cv2.VideoCapture(0) \n",
    "\n",
    "cv2.namedWindow('sketch')\n",
    "\n",
    "cv2.setMouseCallback('sketch',draw)\n",
    "\n",
    "while True:\n",
    "    \n",
    "    ret, frame = cap.read()\n",
    "     \n",
    "    if line == True:\n",
    "        cv2.circle(frame,(x1,y1),25,(0,0,255),5)    \n",
    "        \n",
    "    cv2.imshow('sketch', frame)\n",
    "\n",
    "    if cv2.waitKey(20) & 0xFF == 27:\n",
    "        break\n",
    "        \n",
    "cap.release()\n",
    "cv2.destroyAllWindows()"
   ]
  },
  {
   "cell_type": "code",
   "execution_count": null,
   "metadata": {},
   "outputs": [],
   "source": []
  }
 ],
 "metadata": {
  "kernelspec": {
   "display_name": "Python 2",
   "language": "python",
   "name": "python2"
  },
  "language_info": {
   "codemirror_mode": {
    "name": "ipython",
    "version": 2
   },
   "file_extension": ".py",
   "mimetype": "text/x-python",
   "name": "python",
   "nbconvert_exporter": "python",
   "pygments_lexer": "ipython2",
   "version": "2.7.12"
  }
 },
 "nbformat": 4,
 "nbformat_minor": 2
}
